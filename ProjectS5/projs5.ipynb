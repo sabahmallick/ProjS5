{
 "cells": [
  {
   "cell_type": "code",
   "execution_count": 1,
   "metadata": {},
   "outputs": [
    {
     "name": "stderr",
     "output_type": "stream",
     "text": [
      "2020-04-30 23:39:10,895 allensdk.api.api.retrieve_file_over_http INFO     Downloading URL: http://api.brain-map.org/api/v2/well_known_file_download/492101095\n",
      "2020-04-30 23:39:11,252 allensdk.api.api.retrieve_file_over_http INFO     Downloading URL: http://api.brain-map.org/api/v2/well_known_file_download/496605151\n",
      "2020-04-30 23:39:11,409 allensdk.api.api.retrieve_file_over_http INFO     Downloading URL: http://api.brain-map.org/api/v2/well_known_file_download/395337293\n",
      "2020-04-30 23:39:11,521 allensdk.api.api.retrieve_file_over_http INFO     Downloading URL: http://api.brain-map.org/api/v2/well_known_file_download/395337054\n",
      "2020-04-30 23:39:11,623 allensdk.api.api.retrieve_file_over_http INFO     Downloading URL: http://api.brain-map.org/api/v2/well_known_file_download/395337225\n",
      "2020-04-30 23:39:11,725 allensdk.api.api.retrieve_file_over_http INFO     Downloading URL: http://api.brain-map.org/api/v2/well_known_file_download/395337019\n",
      "2020-04-30 23:39:11,833 allensdk.api.api.retrieve_file_over_http INFO     Downloading URL: http://api.brain-map.org/api/v2/well_known_file_download/395337003\n",
      "2020-04-30 23:39:11,940 allensdk.api.api.retrieve_file_over_http INFO     Downloading URL: http://api.brain-map.org/api/v2/well_known_file_download/395337050\n",
      "2020-04-30 23:39:12,041 allensdk.api.api.retrieve_file_over_http INFO     Downloading URL: http://api.brain-map.org/api/v2/well_known_file_download/395337042\n",
      "2020-04-30 23:39:12,143 allensdk.api.api.retrieve_file_over_http INFO     Downloading URL: http://api.brain-map.org/api/v2/well_known_file_download/395337011\n",
      "2020-04-30 23:39:12,250 allensdk.api.api.retrieve_file_over_http INFO     Downloading URL: http://api.brain-map.org/api/v2/well_known_file_download/395337046\n",
      "2020-04-30 23:39:12,358 allensdk.api.api.retrieve_file_over_http INFO     Downloading URL: http://api.brain-map.org/api/v2/well_known_file_download/395337015\n",
      "2020-04-30 23:39:12,459 allensdk.api.api.retrieve_file_over_http INFO     Downloading URL: http://api.brain-map.org/api/v2/well_known_file_download/395337066\n",
      "2020-04-30 23:39:12,560 allensdk.api.api.retrieve_file_over_http INFO     Downloading URL: http://api.brain-map.org/api/v2/well_known_file_download/464138096\n",
      "2020-04-30 23:39:12,667 allensdk.api.api.retrieve_file_over_http INFO     Downloading URL: http://api.brain-map.org/api/v2/well_known_file_download/395337007\n",
      "2020-04-30 23:39:12,775 allensdk.api.api.retrieve_file_over_http INFO     Downloading URL: http://api.brain-map.org/api/v2/well_known_file_download/395337062\n",
      "2020-04-30 23:39:12,875 allensdk.api.api.retrieve_file_over_http INFO     Downloading URL: http://api.brain-map.org/api/v2/well_known_file_download/491113425\n",
      "2020-04-30 23:39:12,978 allensdk.api.api.retrieve_file_over_http INFO     Downloading URL: http://api.brain-map.org/api/v2/well_known_file_download/395337070\n",
      "2020-04-30 23:39:13,085 allensdk.api.api.retrieve_file_over_http INFO     Downloading URL: http://api.brain-map.org/api/v2/well_known_file_download/497237126\n"
     ]
    }
   ],
   "source": [
    "from allensdk.api.queries.biophysical_api import BiophysicalApi\n",
    "\n",
    "neuronal_model_id =  485591806    # get this from the web site\n",
    "model_directory = './source/'    # the files will be downloaded to the 'source' folder under current directory\n",
    "\n",
    "bp = BiophysicalApi('http://api.brain-map.org')\n",
    "bp.cache_stimulus = False # don't want to download the large stimulus NWB file\n",
    "bp.cache_data(neuronal_model_id, working_directory=model_directory)"
   ]
  },
  {
   "cell_type": "code",
   "execution_count": 2,
   "metadata": {},
   "outputs": [],
   "source": [
    "from allensdk.api.queries.cell_types_api import CellTypesApi\n",
    "cta = CellTypesApi() # the CellTypesApi instance\n",
    "cell = cta.get_cell(4845590000)\n",
    "cell"
   ]
  },
  {
   "cell_type": "code",
   "execution_count": 3,
   "metadata": {},
   "outputs": [
    {
     "data": {
      "text/plain": [
       "{'adaptation': 0.0081539780749065,\n",
       " 'avg_isi': 78.9129166666667,\n",
       " 'electrode_0_pa': 21.9081246199959,\n",
       " 'f_i_curve_slope': 0.148720608859549,\n",
       " 'fast_trough_t_long_square': 1.109125,\n",
       " 'fast_trough_t_ramp': 4.86082833333333,\n",
       " 'fast_trough_t_short_square': 1.024905,\n",
       " 'fast_trough_v_long_square': -45.9062538146973,\n",
       " 'fast_trough_v_ramp': -49.7500025431315,\n",
       " 'fast_trough_v_short_square': -53.3062522888184,\n",
       " 'has_burst': False,\n",
       " 'has_delay': False,\n",
       " 'has_pause': False,\n",
       " 'id': 484579736,\n",
       " 'input_resistance_mohm': 113.40336,\n",
       " 'latency': 0.0446200000000001,\n",
       " 'peak_t_long_square': 1.107065,\n",
       " 'peak_t_ramp': 4.85904666666667,\n",
       " 'peak_t_short_square': 1.023385,\n",
       " 'peak_v_long_square': 29.5000019073486,\n",
       " 'peak_v_ramp': 31.9687506357829,\n",
       " 'peak_v_short_square': 32.2625011444092,\n",
       " 'rheobase_sweep_id': 484564045,\n",
       " 'rheobase_sweep_number': 42,\n",
       " 'ri': 118.43753606081,\n",
       " 'sag': 0.103550091385841,\n",
       " 'seal_gohm': 2.254352896,\n",
       " 'slow_trough_t_long_square': 1.13875,\n",
       " 'slow_trough_t_ramp': 4.896285,\n",
       " 'slow_trough_t_short_square': 1.194107,\n",
       " 'slow_trough_v_long_square': -55.7812538146973,\n",
       " 'slow_trough_v_ramp': -58.4479192097982,\n",
       " 'slow_trough_v_short_square': -72.9062545776367,\n",
       " 'specimen_id': 484559000,\n",
       " 'tau': 12.5565277603897,\n",
       " 'threshold_i_long_square': 170.0,\n",
       " 'threshold_i_ramp': 96.0,\n",
       " 'threshold_i_short_square': 949.999938964844,\n",
       " 'threshold_t_long_square': 1.10666,\n",
       " 'threshold_t_ramp': 4.85863166666667,\n",
       " 'threshold_t_short_square': 1.023036,\n",
       " 'threshold_v_long_square': -40.0625038146973,\n",
       " 'threshold_v_ramp': -41.0833358764648,\n",
       " 'threshold_v_short_square': -52.2500022888184,\n",
       " 'thumbnail_sweep_id': 484564049,\n",
       " 'trough_t_long_square': 1.13875,\n",
       " 'trough_t_ramp': 4.896285,\n",
       " 'trough_t_short_square': 1.194107,\n",
       " 'trough_v_long_square': -55.7812538146973,\n",
       " 'trough_v_ramp': -58.4479192097982,\n",
       " 'trough_v_short_square': -72.9062545776367,\n",
       " 'upstroke_downstroke_ratio_long_square': 3.05927547343154,\n",
       " 'upstroke_downstroke_ratio_ramp': 2.88852425505902,\n",
       " 'upstroke_downstroke_ratio_short_square': 2.95132283616187,\n",
       " 'vm_for_sag': -83.21875,\n",
       " 'vrest': -71.9118957519531}"
      ]
     },
     "execution_count": 3,
     "metadata": {},
     "output_type": "execute_result"
    }
   ],
   "source": [
    "from allensdk.api.queries.rma_api import RmaApi\n",
    "rma = RmaApi() # the RmaApi instance\n",
    "data = rma.model_query(model='EphysFeature',criteria='[specimen_id$eq484559000]')[0]\n",
    "data"
   ]
  },
  {
   "cell_type": "code",
   "execution_count": 4,
   "metadata": {},
   "outputs": [],
   "source": [
    "# based on allensdk.model.biophysical.biophysical_perisomatic.runner\n",
    "\n",
    "# These will be useful for accessing and configuring the downloaded model\n",
    "from allensdk.model.biophys_sim.config import Config\n",
    "from allensdk.model.biophysical.utils import Utils\n",
    "\n",
    "# not using NwbDataSet\n",
    "# from allensdk.core.nwb_data_set import NwbDataSet\n",
    "\n",
    "# We'll save results to a simple text file instead\n",
    "from allensdk.core.dat_utilities import DatUtilities\n",
    "\n",
    "import os\n",
    "cwd = os.getcwd()"
   ]
  },
  {
   "cell_type": "code",
   "execution_count": 5,
   "metadata": {},
   "outputs": [
    {
     "name": "stdout",
     "output_type": "stream",
     "text": [
      "0\n"
     ]
    }
   ],
   "source": [
    "os.chdir('source')\n",
    "print(os.system('nrnivmodl modfiles')) # compile modfiles. Return 0 for success, 1 for failure.\n",
    "os.chdir(cwd)"
   ]
  },
  {
   "cell_type": "code",
   "execution_count": 6,
   "metadata": {},
   "outputs": [],
   "source": [
    "os.chdir('source')\n",
    "\n",
    "description = Config().load('manifest.json')\n",
    "utils = Utils(description)\n",
    "h = utils.h # NEURON handle\n",
    "\n",
    "# configure model\n",
    "manifest = description.manifest\n",
    "morphology_path = description.manifest.get_path('MORPHOLOGY')\n",
    "utils.generate_morphology(morphology_path.encode('ascii', 'ignore'))\n",
    "utils.load_cell_parameters()\n",
    "\n",
    "os.chdir(cwd)"
   ]
  },
  {
   "cell_type": "code",
   "execution_count": 7,
   "metadata": {},
   "outputs": [],
   "source": [
    "stim = h.IClamp(h.soma[0](0.5))\n",
    "stim.amp = 0.12  # nA\n",
    "stim.delay = 500.0\n",
    "stim.dur = 1000.0\n",
    "\n",
    "h.tstop = 2000.0\n",
    "\n",
    "vec = utils.record_values()"
   ]
  },
  {
   "cell_type": "code",
   "execution_count": 8,
   "metadata": {},
   "outputs": [
    {
     "data": {
      "text/plain": [
       "0.0"
      ]
     },
     "execution_count": 8,
     "metadata": {},
     "output_type": "execute_result"
    }
   ],
   "source": [
    "h.finitialize()\n",
    "h.run()"
   ]
  },
  {
   "cell_type": "code",
   "execution_count": 9,
   "metadata": {},
   "outputs": [],
   "source": [
    "import numpy\n",
    "\n",
    "output_path = './source/output_voltage.dat'\n",
    "\n",
    "junction_potential = description.data['fitting'][0]['junction_potential']\n",
    "mV = 1.0e-3\n",
    "ms = 1.0e-3\n",
    "\n",
    "output_data = (numpy.array(vec['v']) - junction_potential) * mV\n",
    "output_times = numpy.array(vec['t']) * ms\n",
    "\n",
    "data = numpy.transpose(numpy.vstack((output_times, output_data)))\n",
    "with open (output_path, \"w\") as f:\n",
    "    numpy.savetxt(f, data)"
   ]
  },
  {
   "cell_type": "code",
   "execution_count": 10,
   "metadata": {},
   "outputs": [
    {
     "data": {
      "image/png": "[encoded data removed]",
      "text/plain": [
       "<Figure size 432x288 with 1 Axes>"
      ]
     },
     "metadata": {
      "needs_background": "light"
     },
     "output_type": "display_data"
    }
   ],
   "source": [
    "%matplotlib inline\n",
    "import matplotlib.pyplot as plt\n",
    "plt.plot(vec['t'], numpy.array(vec['v']) - junction_potential)\n",
    "plt.xlabel('time (ms)')\n",
    "plt.ylabel('membrane potential (mV)')\n",
    "plt.show()"
   ]
  },
  {
   "cell_type": "code",
   "execution_count": null,
   "metadata": {},
   "outputs": [],
   "source": []
  }
 ],
 "metadata": {
  "kernelspec": {
   "display_name": "Python 3",
   "language": "python",
   "name": "python3"
  },
  "language_info": {
   "codemirror_mode": {
    "name": "ipython",
    "version": 3
   },
   "file_extension": ".py",
   "mimetype": "text/x-python",
   "name": "python",
   "nbconvert_exporter": "python",
   "pygments_lexer": "ipython3",
   "version": "3.6.10"
  }
 },
 "nbformat": 4,
 "nbformat_minor": 4
}
